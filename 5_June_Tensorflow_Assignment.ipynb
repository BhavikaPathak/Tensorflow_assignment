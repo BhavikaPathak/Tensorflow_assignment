{
  "nbformat": 4,
  "nbformat_minor": 0,
  "metadata": {
    "colab": {
      "provenance": []
    },
    "kernelspec": {
      "name": "python3",
      "display_name": "Python 3"
    },
    "language_info": {
      "name": "python"
    }
  },
  "cells": [
    {
      "cell_type": "markdown",
      "source": [
        "# **Part 1: Theoretical Question**\n",
        "## ANSWER 1\n",
        "TensorFlow Data Structures:\n",
        "TensorFlow provides various data structures to represent and manipulate data, mainly for numerical computations in deep learning and machine learning. Some of the key data structures used in TensorFlow include:\n",
        "1. Tensor: The fundamental data structure in TensorFlow is a tensor. Tensors are multi-dimensional arrays that can hold data of various data types. They are used to represent both input data and intermediate values in a computation graph. Tensors can have different ranks, such as scalars (0D tensors), vectors (1D tensors), matrices (2D tensors), and so on. Example:"
      ],
      "metadata": {
        "id": "lzDP7Qe3yM2z"
      }
    },
    {
      "cell_type": "code",
      "execution_count": 11,
      "metadata": {
        "id": "xKRTQDAOxj2w"
      },
      "outputs": [],
      "source": [
        "import tensorflow as tf\n",
        "scalar_tensor = tf.constant(5.0)  # 0D tensor (scalar)\n",
        "vector_tensor = tf.constant([1, 2, 3])  # 1D tensor (vector)\n",
        "matrix_tensor = tf.constant([[1, 2], [3, 4]])  # 2D tensor (matrix)"
      ]
    },
    {
      "cell_type": "markdown",
      "source": [
        "2. Variable: TensorFlow variables are used to represent mutable and trainable parameters in a neural network. They can be updated during training through gradient descent or other optimization algorithms. Example:"
      ],
      "metadata": {
        "id": "ajv1AC59y7Mg"
      }
    },
    {
      "cell_type": "code",
      "source": [
        "weight_variable = tf.Variable(initial_value=tf.random.normal((3, 3)))"
      ],
      "metadata": {
        "id": "MYm1XUqiytqw"
      },
      "execution_count": 12,
      "outputs": []
    },
    {
      "cell_type": "markdown",
      "source": [
        "Placeholder (Deprecated in TensorFlow 2.x): Placeholders were used in TensorFlow 1.x to feed data into the computation graph during training. In TensorFlow 2.x, placeholders have been replaced with tf.data and tf.data.Dataset for improved performance and flexibility."
      ],
      "metadata": {
        "id": "Cqh5sa1HzD4s"
      }
    },
    {
      "cell_type": "markdown",
      "source": [
        "## ANSWER 2\n",
        "Constant: A TensorFlow constant is a fixed value that doesn't change during the execution of a computation graph. It is typically used for representing fixed data like hyperparameters, input data, or constants within the model."
      ],
      "metadata": {
        "id": "uzhJhP5azNMb"
      }
    },
    {
      "cell_type": "code",
      "source": [
        "constant_value = tf.constant(5.0)  # Creating a constant tensor"
      ],
      "metadata": {
        "id": "JgAo3KgbzARA"
      },
      "execution_count": 13,
      "outputs": []
    },
    {
      "cell_type": "markdown",
      "source": [
        "Variable: A TensorFlow variable, on the other hand, is a mutable tensor that can change its value during training. Variables are typically used to represent model parameters, such as weights and biases, that need to be updated during optimization."
      ],
      "metadata": {
        "id": "H4riGve8zhy2"
      }
    },
    {
      "cell_type": "code",
      "source": [
        "initial_weights = tf.random.normal((3, 3))\n",
        "weight_variable = tf.Variable(initial_value=initial_weights)  # Creating a variable"
      ],
      "metadata": {
        "id": "SbxRtMNfzded"
      },
      "execution_count": 14,
      "outputs": []
    },
    {
      "cell_type": "markdown",
      "source": [
        "The key difference is update the value of a variable using operations like assign or during training, whereas a constant remains fixed throughout the execution."
      ],
      "metadata": {
        "id": "W9YfBFoYzwa7"
      }
    },
    {
      "cell_type": "markdown",
      "source": [
        "## ANSWER 3\n",
        "Matrix Operations in TensorFlow:\n",
        "\n",
        "1. Matrix Addition: Add two matrices in TensorFlow using the tf.add or the + operator."
      ],
      "metadata": {
        "id": "O3bce7vUz8KS"
      }
    },
    {
      "cell_type": "code",
      "source": [
        "matrix_a = tf.constant([[1, 2], [3, 4]])\n",
        "matrix_b = tf.constant([[5, 6], [7, 8]])\n",
        "result = tf.add(matrix_a, matrix_b)  # or result = matrix_a + matrix_b"
      ],
      "metadata": {
        "id": "r-JQa98pzoiW"
      },
      "execution_count": 15,
      "outputs": []
    },
    {
      "cell_type": "code",
      "source": [
        "result"
      ],
      "metadata": {
        "colab": {
          "base_uri": "https://localhost:8080/"
        },
        "id": "pg0hgph00Mak",
        "outputId": "8c6feca8-71ce-4d6a-bd02-2366bf07a749"
      },
      "execution_count": 16,
      "outputs": [
        {
          "output_type": "execute_result",
          "data": {
            "text/plain": [
              "<tf.Tensor: shape=(2, 2), dtype=int32, numpy=\n",
              "array([[ 6,  8],\n",
              "       [10, 12]], dtype=int32)>"
            ]
          },
          "metadata": {},
          "execution_count": 16
        }
      ]
    },
    {
      "cell_type": "markdown",
      "source": [
        "2. Matrix Multiplication: Matrix multiplication is performed using tf.matmul or the @ operator for TensorFlow 2.x."
      ],
      "metadata": {
        "id": "GXfCNAZs0XWn"
      }
    },
    {
      "cell_type": "code",
      "source": [
        "\n",
        "matrix_a = tf.constant([[1, 2], [3, 4]])\n",
        "matrix_b = tf.constant([[5, 6], [7, 8]])\n",
        "result = tf.matmul(matrix_a, matrix_b)  # or result = matrix_a @ matrix_b"
      ],
      "metadata": {
        "id": "ffnBhPJp0QhS"
      },
      "execution_count": 17,
      "outputs": []
    },
    {
      "cell_type": "code",
      "source": [
        "result"
      ],
      "metadata": {
        "colab": {
          "base_uri": "https://localhost:8080/"
        },
        "id": "1Sh-6wut0e-W",
        "outputId": "251264fd-f9e1-4e18-dd64-1176cec8a7fb"
      },
      "execution_count": 18,
      "outputs": [
        {
          "output_type": "execute_result",
          "data": {
            "text/plain": [
              "<tf.Tensor: shape=(2, 2), dtype=int32, numpy=\n",
              "array([[19, 22],\n",
              "       [43, 50]], dtype=int32)>"
            ]
          },
          "metadata": {},
          "execution_count": 18
        }
      ]
    },
    {
      "cell_type": "markdown",
      "source": [
        "3. Element-wise Operations: Element-wise operations are performed on corresponding elements of two tensors. For example, element-wise addition can be done using tf.add or +."
      ],
      "metadata": {
        "id": "e2VGNL500igk"
      }
    },
    {
      "cell_type": "code",
      "source": [
        "tensor_a = tf.constant([1, 2, 3])\n",
        "tensor_b = tf.constant([4, 5, 6])\n",
        "result = tf.add(tensor_a, tensor_b)  # or result = tensor_a + tensor_b"
      ],
      "metadata": {
        "id": "wFvgZ3mC0g12"
      },
      "execution_count": 19,
      "outputs": []
    },
    {
      "cell_type": "code",
      "source": [
        "result"
      ],
      "metadata": {
        "colab": {
          "base_uri": "https://localhost:8080/"
        },
        "id": "pauXvcNV0rCl",
        "outputId": "019c40a5-f535-43c5-dd52-4e357078da2f"
      },
      "execution_count": 20,
      "outputs": [
        {
          "output_type": "execute_result",
          "data": {
            "text/plain": [
              "<tf.Tensor: shape=(3,), dtype=int32, numpy=array([5, 7, 9], dtype=int32)>"
            ]
          },
          "metadata": {},
          "execution_count": 20
        }
      ]
    },
    {
      "cell_type": "markdown",
      "source": [
        "# **Part 2 : Practical Implementation**\n",
        "## Task 1: Creating and Manipulating Matrices"
      ],
      "metadata": {
        "id": "EPzC07UN19fF"
      }
    },
    {
      "cell_type": "code",
      "source": [
        "matrix_a = tf.random.normal(shape=(2, 2), mean=0, stddev=1)\n",
        "print(\"Matrix A:\")\n",
        "print(matrix_a)"
      ],
      "metadata": {
        "id": "Ktr2n7xV0syu",
        "colab": {
          "base_uri": "https://localhost:8080/"
        },
        "outputId": "19b0fc8c-fe03-4147-ace1-22ac7cafaa7b"
      },
      "execution_count": 21,
      "outputs": [
        {
          "output_type": "stream",
          "name": "stdout",
          "text": [
            "Matrix A:\n",
            "tf.Tensor(\n",
            "[[-0.16557658 -0.6896139 ]\n",
            " [-0.49519864 -1.1163532 ]], shape=(2, 2), dtype=float32)\n"
          ]
        }
      ]
    },
    {
      "cell_type": "code",
      "source": [
        "matrix_b = tf.random.truncated_normal(shape=(2, 2), mean=0, stddev=1)\n",
        "print(\"Matrix B:\")\n",
        "print(matrix_b)"
      ],
      "metadata": {
        "id": "TSiN0pvz17xp",
        "colab": {
          "base_uri": "https://localhost:8080/"
        },
        "outputId": "94306448-fe42-430a-8c87-27414a5e83b9"
      },
      "execution_count": 25,
      "outputs": [
        {
          "output_type": "stream",
          "name": "stdout",
          "text": [
            "Matrix B:\n",
            "tf.Tensor(\n",
            "[[-1.3972323   0.98763525]\n",
            " [ 1.7990675   0.8263609 ]], shape=(2, 2), dtype=float32)\n"
          ]
        }
      ]
    },
    {
      "cell_type": "code",
      "source": [
        "mean = 2.0\n",
        "stddev = 0.5  # Replace 'x' with the desired standard deviation\n",
        "matrix_c = tf.random.normal(shape=(2, 2), mean=mean, stddev=stddev)\n",
        "print(\"Matrix C:\")\n",
        "print(matrix_c)"
      ],
      "metadata": {
        "id": "v8u3JPFD2pN3",
        "colab": {
          "base_uri": "https://localhost:8080/"
        },
        "outputId": "f15b1aa9-df83-4ff8-d82c-519678628ac0"
      },
      "execution_count": 26,
      "outputs": [
        {
          "output_type": "stream",
          "name": "stdout",
          "text": [
            "Matrix C:\n",
            "tf.Tensor(\n",
            "[[1.830752  2.3653717]\n",
            " [2.0955818 2.3558764]], shape=(2, 2), dtype=float32)\n"
          ]
        }
      ]
    },
    {
      "cell_type": "code",
      "source": [
        "matrix_d = tf.add(matrix_a, matrix_b)\n",
        "print(\"Matrix D (result of addition):\")\n",
        "print(matrix_d)"
      ],
      "metadata": {
        "id": "CElac6h320TG",
        "colab": {
          "base_uri": "https://localhost:8080/"
        },
        "outputId": "ead0989c-b9a1-4bcc-b3ac-109d598b4be5"
      },
      "execution_count": 27,
      "outputs": [
        {
          "output_type": "stream",
          "name": "stdout",
          "text": [
            "Matrix D (result of addition):\n",
            "tf.Tensor(\n",
            "[[-1.5628089   0.29802138]\n",
            " [ 1.3038689  -0.28999227]], shape=(2, 2), dtype=float32)\n"
          ]
        }
      ]
    },
    {
      "cell_type": "code",
      "source": [
        "matrix_e = tf.matmul(matrix_c, matrix_d)\n",
        "print(\"Matrix E (result of multiplication):\")\n",
        "print(matrix_e)"
      ],
      "metadata": {
        "id": "cjw47i0Z23rP",
        "colab": {
          "base_uri": "https://localhost:8080/"
        },
        "outputId": "8737eab8-e59c-48c3-db5f-3402fe48d141"
      },
      "execution_count": 28,
      "outputs": [
        {
          "output_type": "stream",
          "name": "stdout",
          "text": [
            "Matrix E (result of multiplication):\n",
            "tf.Tensor(\n",
            "[[ 0.22301912 -0.14033628]\n",
            " [-0.20323992 -0.05865782]], shape=(2, 2), dtype=float32)\n"
          ]
        }
      ]
    },
    {
      "cell_type": "markdown",
      "source": [
        "## Task 2: Performing Additional Matrix Operation"
      ],
      "metadata": {
        "id": "OJxb7G7f5P5Q"
      }
    },
    {
      "cell_type": "code",
      "source": [
        "matrix_f = tf.random.uniform(shape=(2, 2), minval=0, maxval=1)\n",
        "print(\"Matrix F:\")\n",
        "print(matrix_f)"
      ],
      "metadata": {
        "id": "bb9QQNYT27A5",
        "colab": {
          "base_uri": "https://localhost:8080/"
        },
        "outputId": "d3655655-d4f5-448b-93d8-2151b6a424df"
      },
      "execution_count": 29,
      "outputs": [
        {
          "output_type": "stream",
          "name": "stdout",
          "text": [
            "Matrix F:\n",
            "tf.Tensor(\n",
            "[[0.24540067 0.8567823 ]\n",
            " [0.6777413  0.23086464]], shape=(2, 2), dtype=float32)\n"
          ]
        }
      ]
    },
    {
      "cell_type": "code",
      "source": [
        "matrix_g = tf.transpose(matrix_f)\n",
        "print(\"Matrix G (transpose of F):\")\n",
        "print(matrix_g)"
      ],
      "metadata": {
        "colab": {
          "base_uri": "https://localhost:8080/"
        },
        "id": "57x6l0uS5zJG",
        "outputId": "f3693f8e-9580-47e3-e672-77fe1a2ee683"
      },
      "execution_count": 30,
      "outputs": [
        {
          "output_type": "stream",
          "name": "stdout",
          "text": [
            "Matrix G (transpose of F):\n",
            "tf.Tensor(\n",
            "[[0.24540067 0.6777413 ]\n",
            " [0.8567823  0.23086464]], shape=(2, 2), dtype=float32)\n"
          ]
        }
      ]
    },
    {
      "cell_type": "code",
      "source": [
        "matrix_h = tf.exp(matrix_f)\n",
        "print(\"Matrix H (element-wise exponential of F):\")\n",
        "print(matrix_h)"
      ],
      "metadata": {
        "colab": {
          "base_uri": "https://localhost:8080/"
        },
        "id": "RIOVBf5G52oJ",
        "outputId": "c2f4a05f-f23e-46b3-c68a-abf8462ece64"
      },
      "execution_count": 31,
      "outputs": [
        {
          "output_type": "stream",
          "name": "stdout",
          "text": [
            "Matrix H (element-wise exponential of F):\n",
            "tf.Tensor(\n",
            "[[1.2781333 2.3555691]\n",
            " [1.9694244 1.2596887]], shape=(2, 2), dtype=float32)\n"
          ]
        }
      ]
    },
    {
      "cell_type": "code",
      "source": [
        "matrix_i = tf.concat([matrix_f, matrix_g], axis=1)\n",
        "print(\"Matrix I (concatenation of F and G horizontally):\")\n",
        "print(matrix_i)"
      ],
      "metadata": {
        "colab": {
          "base_uri": "https://localhost:8080/"
        },
        "id": "sRrm8zbH57Ry",
        "outputId": "3148e85d-629e-45f9-ada7-576aeb48b916"
      },
      "execution_count": 32,
      "outputs": [
        {
          "output_type": "stream",
          "name": "stdout",
          "text": [
            "Matrix I (concatenation of F and G horizontally):\n",
            "tf.Tensor(\n",
            "[[0.24540067 0.8567823  0.24540067 0.6777413 ]\n",
            " [0.6777413  0.23086464 0.8567823  0.23086464]], shape=(2, 4), dtype=float32)\n"
          ]
        }
      ]
    },
    {
      "cell_type": "code",
      "source": [
        "matrix_j = tf.concat([matrix_f, matrix_h], axis=0)\n",
        "print(\"Matrix J (concatenation of F and H vertically):\")\n",
        "print(matrix_j)"
      ],
      "metadata": {
        "colab": {
          "base_uri": "https://localhost:8080/"
        },
        "id": "BHuE8bOm5-RU",
        "outputId": "89052a95-c6b7-4000-fd11-8719a103b54d"
      },
      "execution_count": 33,
      "outputs": [
        {
          "output_type": "stream",
          "name": "stdout",
          "text": [
            "Matrix J (concatenation of F and H vertically):\n",
            "tf.Tensor(\n",
            "[[0.24540067 0.8567823 ]\n",
            " [0.6777413  0.23086464]\n",
            " [1.2781333  2.3555691 ]\n",
            " [1.9694244  1.2596887 ]], shape=(4, 2), dtype=float32)\n"
          ]
        }
      ]
    },
    {
      "cell_type": "code",
      "source": [],
      "metadata": {
        "id": "iLGjhtZc6DxE"
      },
      "execution_count": 33,
      "outputs": []
    }
  ]
}